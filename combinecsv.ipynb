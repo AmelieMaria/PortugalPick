{
 "cells": [
  {
   "cell_type": "code",
   "execution_count": 2,
   "metadata": {},
   "outputs": [],
   "source": [
    "import numpy as np\n",
    "import pandas as pd\n",
    "import time \n",
    "import json\n",
    "import requests \n",
    "import re"
   ]
  },
  {
   "cell_type": "code",
   "execution_count": 4,
   "metadata": {},
   "outputs": [
    {
     "data": {
      "text/html": [
       "<div>\n",
       "<style scoped>\n",
       "    .dataframe tbody tr th:only-of-type {\n",
       "        vertical-align: middle;\n",
       "    }\n",
       "\n",
       "    .dataframe tbody tr th {\n",
       "        vertical-align: top;\n",
       "    }\n",
       "\n",
       "    .dataframe thead th {\n",
       "        text-align: right;\n",
       "    }\n",
       "</style>\n",
       "<table border=\"1\" class=\"dataframe\">\n",
       "  <thead>\n",
       "    <tr style=\"text-align: right;\">\n",
       "      <th></th>\n",
       "      <th>location_id</th>\n",
       "      <th>name</th>\n",
       "      <th>distance</th>\n",
       "      <th>bearing</th>\n",
       "      <th>address_obj.street1</th>\n",
       "      <th>address_obj.city</th>\n",
       "      <th>address_obj.country</th>\n",
       "      <th>address_obj.postalcode</th>\n",
       "      <th>address_obj.address_string</th>\n",
       "      <th>address_obj.street2</th>\n",
       "      <th>address_obj.state</th>\n",
       "    </tr>\n",
       "  </thead>\n",
       "  <tbody>\n",
       "    <tr>\n",
       "      <th>0</th>\n",
       "      <td>23654441.0</td>\n",
       "      <td>Glam Caffe</td>\n",
       "      <td>0.415274</td>\n",
       "      <td>south</td>\n",
       "      <td>Rua Americo Diniz 111 Casas Novas</td>\n",
       "      <td>Coimbra</td>\n",
       "      <td>Portugal</td>\n",
       "      <td>3045-138</td>\n",
       "      <td>Rua Americo Diniz 111 Casas Novas, Coimbra 304...</td>\n",
       "      <td>NaN</td>\n",
       "      <td>NaN</td>\n",
       "    </tr>\n",
       "    <tr>\n",
       "      <th>1</th>\n",
       "      <td>13124988.0</td>\n",
       "      <td>Just Be</td>\n",
       "      <td>0.328461</td>\n",
       "      <td>east</td>\n",
       "      <td>Avenida Sao Sebastiao 9</td>\n",
       "      <td>Evora</td>\n",
       "      <td>Portugal</td>\n",
       "      <td>7000-767</td>\n",
       "      <td>Avenida Sao Sebastiao 9, Evora 7000-767 Portugal</td>\n",
       "      <td>NaN</td>\n",
       "      <td>NaN</td>\n",
       "    </tr>\n",
       "  </tbody>\n",
       "</table>\n",
       "</div>"
      ],
      "text/plain": [
       "   location_id        name  distance bearing  \\\n",
       "0   23654441.0  Glam Caffe  0.415274   south   \n",
       "1   13124988.0     Just Be  0.328461    east   \n",
       "\n",
       "                 address_obj.street1 address_obj.city address_obj.country  \\\n",
       "0  Rua Americo Diniz 111 Casas Novas          Coimbra            Portugal   \n",
       "1            Avenida Sao Sebastiao 9            Evora            Portugal   \n",
       "\n",
       "  address_obj.postalcode                         address_obj.address_string  \\\n",
       "0               3045-138  Rua Americo Diniz 111 Casas Novas, Coimbra 304...   \n",
       "1               7000-767   Avenida Sao Sebastiao 9, Evora 7000-767 Portugal   \n",
       "\n",
       "  address_obj.street2 address_obj.state  \n",
       "0                 NaN               NaN  \n",
       "1                 NaN               NaN  "
      ]
     },
     "execution_count": 4,
     "metadata": {},
     "output_type": "execute_result"
    }
   ],
   "source": [
    "# lets start with the attractions\n",
    "attractions_df = pd.read_csv('attractions_api1000.csv')\n",
    "attractions_df.head(2)"
   ]
  },
  {
   "cell_type": "code",
   "execution_count": 6,
   "metadata": {},
   "outputs": [
    {
     "data": {
      "text/plain": [
       "1000"
      ]
     },
     "execution_count": 6,
     "metadata": {},
     "output_type": "execute_result"
    }
   ],
   "source": [
    "#attractions_df.info()\n",
    "len(attractions_df)"
   ]
  },
  {
   "cell_type": "code",
   "execution_count": 7,
   "metadata": {},
   "outputs": [
    {
     "data": {
      "text/plain": [
       "location_id                    39\n",
       "name                           39\n",
       "distance                       39\n",
       "bearing                        39\n",
       "address_obj.street1            94\n",
       "address_obj.city               39\n",
       "address_obj.country            39\n",
       "address_obj.postalcode        113\n",
       "address_obj.address_string     39\n",
       "address_obj.street2           839\n",
       "address_obj.state             992\n",
       "dtype: int64"
      ]
     },
     "execution_count": 7,
     "metadata": {},
     "output_type": "execute_result"
    }
   ],
   "source": [
    "attractions_df.isnull().sum()"
   ]
  },
  {
   "cell_type": "code",
   "execution_count": 14,
   "metadata": {},
   "outputs": [],
   "source": [
    "attractions_df = attractions_df.drop('address_obj.street2', axis=1)"
   ]
  },
  {
   "cell_type": "code",
   "execution_count": 15,
   "metadata": {},
   "outputs": [],
   "source": [
    "attractions_df = attractions_df.drop('address_obj.state', axis=1)"
   ]
  },
  {
   "cell_type": "code",
   "execution_count": 18,
   "metadata": {},
   "outputs": [],
   "source": [
    "attractions_df['address_obj.postalcode'] = attractions_df['address_obj.postalcode'].fillna(0)"
   ]
  },
  {
   "cell_type": "code",
   "execution_count": 20,
   "metadata": {},
   "outputs": [
    {
     "data": {
      "text/plain": [
       "location_id                   39\n",
       "name                          39\n",
       "distance                      39\n",
       "bearing                       39\n",
       "address_obj.street1           94\n",
       "address_obj.city              39\n",
       "address_obj.country           39\n",
       "address_obj.postalcode         0\n",
       "address_obj.address_string    39\n",
       "dtype: int64"
      ]
     },
     "execution_count": 20,
     "metadata": {},
     "output_type": "execute_result"
    }
   ],
   "source": [
    "attractions_df.isnull().sum()\n",
    "# we will keep the nan values in the postal code column as we need the column for later, lets see if we can restore them somehow "
   ]
  },
  {
   "cell_type": "code",
   "execution_count": 21,
   "metadata": {},
   "outputs": [],
   "source": [
    "attractions_df = attractions_df.dropna()"
   ]
  },
  {
   "cell_type": "code",
   "execution_count": 24,
   "metadata": {},
   "outputs": [
    {
     "data": {
      "text/plain": [
       "0"
      ]
     },
     "execution_count": 24,
     "metadata": {},
     "output_type": "execute_result"
    }
   ],
   "source": [
    "#attractions_df.isnull().sum()\n",
    "attractions_df.duplicated().sum()\n"
   ]
  },
  {
   "cell_type": "code",
   "execution_count": 32,
   "metadata": {},
   "outputs": [],
   "source": [
    "#attractions_df[\"name\"].value_counts()\n",
    "#attractions_df[\"address_obj.street1\"].value_counts()\n",
    "\n",
    "attractions_df = attractions_df.rename(columns={'address_obj.street1': 'street', 'address_obj.city': 'city', 'address_obj.country': 'country', 'address_obj.postalcode': 'postal_code', 'address_obj.address_string': 'complete_address'})"
   ]
  },
  {
   "cell_type": "code",
   "execution_count": 35,
   "metadata": {},
   "outputs": [],
   "source": [
    "attractions_df['type'] = 'attraction'"
   ]
  },
  {
   "cell_type": "code",
   "execution_count": 39,
   "metadata": {},
   "outputs": [
    {
     "data": {
      "text/html": [
       "<div>\n",
       "<style scoped>\n",
       "    .dataframe tbody tr th:only-of-type {\n",
       "        vertical-align: middle;\n",
       "    }\n",
       "\n",
       "    .dataframe tbody tr th {\n",
       "        vertical-align: top;\n",
       "    }\n",
       "\n",
       "    .dataframe thead th {\n",
       "        text-align: right;\n",
       "    }\n",
       "</style>\n",
       "<table border=\"1\" class=\"dataframe\">\n",
       "  <thead>\n",
       "    <tr style=\"text-align: right;\">\n",
       "      <th></th>\n",
       "      <th>location_id</th>\n",
       "      <th>name</th>\n",
       "      <th>distance</th>\n",
       "      <th>bearing</th>\n",
       "      <th>street</th>\n",
       "      <th>city</th>\n",
       "      <th>country</th>\n",
       "      <th>postal_code</th>\n",
       "      <th>complete_address</th>\n",
       "      <th>type</th>\n",
       "    </tr>\n",
       "  </thead>\n",
       "  <tbody>\n",
       "    <tr>\n",
       "      <th>0</th>\n",
       "      <td>23654441.0</td>\n",
       "      <td>Glam Caffe</td>\n",
       "      <td>0.415274</td>\n",
       "      <td>south</td>\n",
       "      <td>Rua Americo Diniz 111 Casas Novas</td>\n",
       "      <td>Coimbra</td>\n",
       "      <td>Portugal</td>\n",
       "      <td>3045-138</td>\n",
       "      <td>Rua Americo Diniz 111 Casas Novas, Coimbra 304...</td>\n",
       "      <td>attraction</td>\n",
       "    </tr>\n",
       "    <tr>\n",
       "      <th>1</th>\n",
       "      <td>13124988.0</td>\n",
       "      <td>Just Be</td>\n",
       "      <td>0.328461</td>\n",
       "      <td>east</td>\n",
       "      <td>Avenida Sao Sebastiao 9</td>\n",
       "      <td>Evora</td>\n",
       "      <td>Portugal</td>\n",
       "      <td>7000-767</td>\n",
       "      <td>Avenida Sao Sebastiao 9, Evora 7000-767 Portugal</td>\n",
       "      <td>attraction</td>\n",
       "    </tr>\n",
       "    <tr>\n",
       "      <th>2</th>\n",
       "      <td>7224821.0</td>\n",
       "      <td>Igreja de Nossa Senhora da Lapa</td>\n",
       "      <td>0.057385</td>\n",
       "      <td>north</td>\n",
       "      <td>Campo da Restauracao</td>\n",
       "      <td>Vila Vicosa</td>\n",
       "      <td>Portugal</td>\n",
       "      <td>7150-000</td>\n",
       "      <td>Campo da Restauracao, Vila Vicosa 7150-000 Por...</td>\n",
       "      <td>attraction</td>\n",
       "    </tr>\n",
       "    <tr>\n",
       "      <th>3</th>\n",
       "      <td>7142467.0</td>\n",
       "      <td>Oficina da Formiga Ceramica</td>\n",
       "      <td>0.385437</td>\n",
       "      <td>southwest</td>\n",
       "      <td>Rua da Coutada 77</td>\n",
       "      <td>Ilhavo</td>\n",
       "      <td>Portugal</td>\n",
       "      <td>3830-134</td>\n",
       "      <td>Rua da Coutada 77, Ilhavo 3830-134 Portugal</td>\n",
       "      <td>attraction</td>\n",
       "    </tr>\n",
       "    <tr>\n",
       "      <th>4</th>\n",
       "      <td>20999967.0</td>\n",
       "      <td>Memories Night Club</td>\n",
       "      <td>1.037043</td>\n",
       "      <td>north</td>\n",
       "      <td>Travessa do Monte do Paco 56</td>\n",
       "      <td>Esgueira</td>\n",
       "      <td>Portugal</td>\n",
       "      <td>3800-036</td>\n",
       "      <td>Travessa do Monte do Paco 56, Esgueira 3800-03...</td>\n",
       "      <td>attraction</td>\n",
       "    </tr>\n",
       "  </tbody>\n",
       "</table>\n",
       "</div>"
      ],
      "text/plain": [
       "   location_id                             name  distance    bearing  \\\n",
       "0   23654441.0                       Glam Caffe  0.415274      south   \n",
       "1   13124988.0                          Just Be  0.328461       east   \n",
       "2    7224821.0  Igreja de Nossa Senhora da Lapa  0.057385      north   \n",
       "3    7142467.0      Oficina da Formiga Ceramica  0.385437  southwest   \n",
       "4   20999967.0              Memories Night Club  1.037043      north   \n",
       "\n",
       "                              street         city   country postal_code  \\\n",
       "0  Rua Americo Diniz 111 Casas Novas      Coimbra  Portugal    3045-138   \n",
       "1            Avenida Sao Sebastiao 9        Evora  Portugal    7000-767   \n",
       "2               Campo da Restauracao  Vila Vicosa  Portugal    7150-000   \n",
       "3                  Rua da Coutada 77       Ilhavo  Portugal    3830-134   \n",
       "4       Travessa do Monte do Paco 56     Esgueira  Portugal    3800-036   \n",
       "\n",
       "                                    complete_address        type  \n",
       "0  Rua Americo Diniz 111 Casas Novas, Coimbra 304...  attraction  \n",
       "1   Avenida Sao Sebastiao 9, Evora 7000-767 Portugal  attraction  \n",
       "2  Campo da Restauracao, Vila Vicosa 7150-000 Por...  attraction  \n",
       "3        Rua da Coutada 77, Ilhavo 3830-134 Portugal  attraction  \n",
       "4  Travessa do Monte do Paco 56, Esgueira 3800-03...  attraction  "
      ]
     },
     "execution_count": 39,
     "metadata": {},
     "output_type": "execute_result"
    }
   ],
   "source": [
    "attractions_df.head()\n",
    "# attractions df is ready"
   ]
  },
  {
   "cell_type": "code",
   "execution_count": 45,
   "metadata": {},
   "outputs": [
    {
     "data": {
      "text/html": [
       "<div>\n",
       "<style scoped>\n",
       "    .dataframe tbody tr th:only-of-type {\n",
       "        vertical-align: middle;\n",
       "    }\n",
       "\n",
       "    .dataframe tbody tr th {\n",
       "        vertical-align: top;\n",
       "    }\n",
       "\n",
       "    .dataframe thead th {\n",
       "        text-align: right;\n",
       "    }\n",
       "</style>\n",
       "<table border=\"1\" class=\"dataframe\">\n",
       "  <thead>\n",
       "    <tr style=\"text-align: right;\">\n",
       "      <th></th>\n",
       "      <th>location_id</th>\n",
       "      <th>name</th>\n",
       "      <th>distance</th>\n",
       "      <th>bearing</th>\n",
       "      <th>address_obj.street1</th>\n",
       "      <th>address_obj.street2</th>\n",
       "      <th>address_obj.city</th>\n",
       "      <th>address_obj.country</th>\n",
       "      <th>address_obj.postalcode</th>\n",
       "      <th>address_obj.address_string</th>\n",
       "    </tr>\n",
       "  </thead>\n",
       "  <tbody>\n",
       "    <tr>\n",
       "      <th>0</th>\n",
       "      <td>261349.0</td>\n",
       "      <td>The Noble House</td>\n",
       "      <td>0.107644</td>\n",
       "      <td>northwest</td>\n",
       "      <td>Rua da Freiria de Baixo 16</td>\n",
       "      <td>NaN</td>\n",
       "      <td>Evora</td>\n",
       "      <td>Portugal</td>\n",
       "      <td>7000-898</td>\n",
       "      <td>Rua da Freiria de Baixo 16, Evora 7000-898 Por...</td>\n",
       "    </tr>\n",
       "    <tr>\n",
       "      <th>1</th>\n",
       "      <td>12579601.0</td>\n",
       "      <td>The Noble House</td>\n",
       "      <td>0.104778</td>\n",
       "      <td>northwest</td>\n",
       "      <td>Rua da Freiria de Baixo 16</td>\n",
       "      <td>NaN</td>\n",
       "      <td>Evora</td>\n",
       "      <td>Portugal</td>\n",
       "      <td>7000-898</td>\n",
       "      <td>Rua da Freiria de Baixo 16, Evora 7000-898 Por...</td>\n",
       "    </tr>\n",
       "    <tr>\n",
       "      <th>2</th>\n",
       "      <td>23850713.0</td>\n",
       "      <td>Mourasuites Hotel</td>\n",
       "      <td>0.096517</td>\n",
       "      <td>southwest</td>\n",
       "      <td>Largo da Portas de Moura 28</td>\n",
       "      <td>NaN</td>\n",
       "      <td>Evora</td>\n",
       "      <td>Portugal</td>\n",
       "      <td>7000-647</td>\n",
       "      <td>Largo da Portas de Moura 28, Evora 7000-647 Po...</td>\n",
       "    </tr>\n",
       "    <tr>\n",
       "      <th>3</th>\n",
       "      <td>23710954.0</td>\n",
       "      <td>Casa Soure Suites and apartements</td>\n",
       "      <td>0.133332</td>\n",
       "      <td>west</td>\n",
       "      <td>Rua da Misericordia n0 9</td>\n",
       "      <td>NaN</td>\n",
       "      <td>Evora</td>\n",
       "      <td>Portugal</td>\n",
       "      <td>7000-654</td>\n",
       "      <td>Rua da Misericordia n0 9, Evora 7000-654 Portugal</td>\n",
       "    </tr>\n",
       "    <tr>\n",
       "      <th>4</th>\n",
       "      <td>253484.0</td>\n",
       "      <td>Hotel Riviera</td>\n",
       "      <td>0.223739</td>\n",
       "      <td>west</td>\n",
       "      <td>Rua 5 de Outubro 47 49</td>\n",
       "      <td>NaN</td>\n",
       "      <td>Evora</td>\n",
       "      <td>Portugal</td>\n",
       "      <td>7000-854</td>\n",
       "      <td>Rua 5 de Outubro 47 49, Evora 7000-854 Portugal</td>\n",
       "    </tr>\n",
       "  </tbody>\n",
       "</table>\n",
       "</div>"
      ],
      "text/plain": [
       "   location_id                               name  distance    bearing  \\\n",
       "0     261349.0                    The Noble House  0.107644  northwest   \n",
       "1   12579601.0                    The Noble House  0.104778  northwest   \n",
       "2   23850713.0                  Mourasuites Hotel  0.096517  southwest   \n",
       "3   23710954.0  Casa Soure Suites and apartements  0.133332       west   \n",
       "4     253484.0                      Hotel Riviera  0.223739       west   \n",
       "\n",
       "           address_obj.street1 address_obj.street2 address_obj.city  \\\n",
       "0   Rua da Freiria de Baixo 16                 NaN            Evora   \n",
       "1   Rua da Freiria de Baixo 16                 NaN            Evora   \n",
       "2  Largo da Portas de Moura 28                 NaN            Evora   \n",
       "3     Rua da Misericordia n0 9                 NaN            Evora   \n",
       "4       Rua 5 de Outubro 47 49                 NaN            Evora   \n",
       "\n",
       "  address_obj.country address_obj.postalcode  \\\n",
       "0            Portugal               7000-898   \n",
       "1            Portugal               7000-898   \n",
       "2            Portugal               7000-647   \n",
       "3            Portugal               7000-654   \n",
       "4            Portugal               7000-854   \n",
       "\n",
       "                          address_obj.address_string  \n",
       "0  Rua da Freiria de Baixo 16, Evora 7000-898 Por...  \n",
       "1  Rua da Freiria de Baixo 16, Evora 7000-898 Por...  \n",
       "2  Largo da Portas de Moura 28, Evora 7000-647 Po...  \n",
       "3  Rua da Misericordia n0 9, Evora 7000-654 Portugal  \n",
       "4    Rua 5 de Outubro 47 49, Evora 7000-854 Portugal  "
      ]
     },
     "execution_count": 45,
     "metadata": {},
     "output_type": "execute_result"
    }
   ],
   "source": [
    "hotels_df = pd.read_csv('hotels_api1000.csv')\n",
    "hotels_df.head()"
   ]
  },
  {
   "cell_type": "code",
   "execution_count": 46,
   "metadata": {},
   "outputs": [
    {
     "data": {
      "text/plain": [
       "5391"
      ]
     },
     "execution_count": 46,
     "metadata": {},
     "output_type": "execute_result"
    }
   ],
   "source": [
    "len(hotels_df)"
   ]
  },
  {
   "cell_type": "code",
   "execution_count": 47,
   "metadata": {},
   "outputs": [
    {
     "data": {
      "text/plain": [
       "location_id                    260\n",
       "name                           260\n",
       "distance                       260\n",
       "bearing                        260\n",
       "address_obj.street1            268\n",
       "address_obj.street2           4841\n",
       "address_obj.city               260\n",
       "address_obj.country            260\n",
       "address_obj.postalcode         292\n",
       "address_obj.address_string     260\n",
       "dtype: int64"
      ]
     },
     "execution_count": 47,
     "metadata": {},
     "output_type": "execute_result"
    }
   ],
   "source": [
    "hotels_df.isnull().sum()"
   ]
  },
  {
   "cell_type": "code",
   "execution_count": 49,
   "metadata": {},
   "outputs": [],
   "source": [
    "hotels_df = hotels_df.drop('address_obj.street2', axis=1)"
   ]
  },
  {
   "cell_type": "code",
   "execution_count": 51,
   "metadata": {},
   "outputs": [],
   "source": [
    "hotels_df = hotels_df.dropna()"
   ]
  },
  {
   "cell_type": "code",
   "execution_count": 54,
   "metadata": {},
   "outputs": [
    {
     "data": {
      "text/plain": [
       "11"
      ]
     },
     "execution_count": 54,
     "metadata": {},
     "output_type": "execute_result"
    }
   ],
   "source": [
    "hotels_df.duplicated().sum()\n"
   ]
  },
  {
   "cell_type": "code",
   "execution_count": 55,
   "metadata": {},
   "outputs": [],
   "source": [
    "hotels_df.drop_duplicates(inplace=True)"
   ]
  },
  {
   "cell_type": "code",
   "execution_count": 58,
   "metadata": {},
   "outputs": [],
   "source": [
    "hotels_df = hotels_df.rename(columns={'address_obj.street1': 'street', 'address_obj.city': 'city', 'address_obj.country': 'country', 'address_obj.postalcode': 'postal_code', 'address_obj.address_string': 'complete_address'})"
   ]
  },
  {
   "cell_type": "code",
   "execution_count": 60,
   "metadata": {},
   "outputs": [],
   "source": [
    "hotels_df['type'] = 'hotel'"
   ]
  },
  {
   "cell_type": "code",
   "execution_count": 61,
   "metadata": {},
   "outputs": [
    {
     "data": {
      "text/html": [
       "<div>\n",
       "<style scoped>\n",
       "    .dataframe tbody tr th:only-of-type {\n",
       "        vertical-align: middle;\n",
       "    }\n",
       "\n",
       "    .dataframe tbody tr th {\n",
       "        vertical-align: top;\n",
       "    }\n",
       "\n",
       "    .dataframe thead th {\n",
       "        text-align: right;\n",
       "    }\n",
       "</style>\n",
       "<table border=\"1\" class=\"dataframe\">\n",
       "  <thead>\n",
       "    <tr style=\"text-align: right;\">\n",
       "      <th></th>\n",
       "      <th>location_id</th>\n",
       "      <th>name</th>\n",
       "      <th>distance</th>\n",
       "      <th>bearing</th>\n",
       "      <th>street</th>\n",
       "      <th>city</th>\n",
       "      <th>country</th>\n",
       "      <th>postal_code</th>\n",
       "      <th>complete_address</th>\n",
       "      <th>type</th>\n",
       "    </tr>\n",
       "  </thead>\n",
       "  <tbody>\n",
       "    <tr>\n",
       "      <th>0</th>\n",
       "      <td>261349.0</td>\n",
       "      <td>The Noble House</td>\n",
       "      <td>0.107644</td>\n",
       "      <td>northwest</td>\n",
       "      <td>Rua da Freiria de Baixo 16</td>\n",
       "      <td>Evora</td>\n",
       "      <td>Portugal</td>\n",
       "      <td>7000-898</td>\n",
       "      <td>Rua da Freiria de Baixo 16, Evora 7000-898 Por...</td>\n",
       "      <td>hotel</td>\n",
       "    </tr>\n",
       "    <tr>\n",
       "      <th>1</th>\n",
       "      <td>12579601.0</td>\n",
       "      <td>The Noble House</td>\n",
       "      <td>0.104778</td>\n",
       "      <td>northwest</td>\n",
       "      <td>Rua da Freiria de Baixo 16</td>\n",
       "      <td>Evora</td>\n",
       "      <td>Portugal</td>\n",
       "      <td>7000-898</td>\n",
       "      <td>Rua da Freiria de Baixo 16, Evora 7000-898 Por...</td>\n",
       "      <td>hotel</td>\n",
       "    </tr>\n",
       "    <tr>\n",
       "      <th>2</th>\n",
       "      <td>23850713.0</td>\n",
       "      <td>Mourasuites Hotel</td>\n",
       "      <td>0.096517</td>\n",
       "      <td>southwest</td>\n",
       "      <td>Largo da Portas de Moura 28</td>\n",
       "      <td>Evora</td>\n",
       "      <td>Portugal</td>\n",
       "      <td>7000-647</td>\n",
       "      <td>Largo da Portas de Moura 28, Evora 7000-647 Po...</td>\n",
       "      <td>hotel</td>\n",
       "    </tr>\n",
       "    <tr>\n",
       "      <th>3</th>\n",
       "      <td>23710954.0</td>\n",
       "      <td>Casa Soure Suites and apartements</td>\n",
       "      <td>0.133332</td>\n",
       "      <td>west</td>\n",
       "      <td>Rua da Misericordia n0 9</td>\n",
       "      <td>Evora</td>\n",
       "      <td>Portugal</td>\n",
       "      <td>7000-654</td>\n",
       "      <td>Rua da Misericordia n0 9, Evora 7000-654 Portugal</td>\n",
       "      <td>hotel</td>\n",
       "    </tr>\n",
       "    <tr>\n",
       "      <th>4</th>\n",
       "      <td>253484.0</td>\n",
       "      <td>Hotel Riviera</td>\n",
       "      <td>0.223739</td>\n",
       "      <td>west</td>\n",
       "      <td>Rua 5 de Outubro 47 49</td>\n",
       "      <td>Evora</td>\n",
       "      <td>Portugal</td>\n",
       "      <td>7000-854</td>\n",
       "      <td>Rua 5 de Outubro 47 49, Evora 7000-854 Portugal</td>\n",
       "      <td>hotel</td>\n",
       "    </tr>\n",
       "  </tbody>\n",
       "</table>\n",
       "</div>"
      ],
      "text/plain": [
       "   location_id                               name  distance    bearing  \\\n",
       "0     261349.0                    The Noble House  0.107644  northwest   \n",
       "1   12579601.0                    The Noble House  0.104778  northwest   \n",
       "2   23850713.0                  Mourasuites Hotel  0.096517  southwest   \n",
       "3   23710954.0  Casa Soure Suites and apartements  0.133332       west   \n",
       "4     253484.0                      Hotel Riviera  0.223739       west   \n",
       "\n",
       "                        street   city   country postal_code  \\\n",
       "0   Rua da Freiria de Baixo 16  Evora  Portugal    7000-898   \n",
       "1   Rua da Freiria de Baixo 16  Evora  Portugal    7000-898   \n",
       "2  Largo da Portas de Moura 28  Evora  Portugal    7000-647   \n",
       "3     Rua da Misericordia n0 9  Evora  Portugal    7000-654   \n",
       "4       Rua 5 de Outubro 47 49  Evora  Portugal    7000-854   \n",
       "\n",
       "                                    complete_address   type  \n",
       "0  Rua da Freiria de Baixo 16, Evora 7000-898 Por...  hotel  \n",
       "1  Rua da Freiria de Baixo 16, Evora 7000-898 Por...  hotel  \n",
       "2  Largo da Portas de Moura 28, Evora 7000-647 Po...  hotel  \n",
       "3  Rua da Misericordia n0 9, Evora 7000-654 Portugal  hotel  \n",
       "4    Rua 5 de Outubro 47 49, Evora 7000-854 Portugal  hotel  "
      ]
     },
     "execution_count": 61,
     "metadata": {},
     "output_type": "execute_result"
    }
   ],
   "source": [
    "hotels_df.head()\n",
    "# hotel df ready but first 2 lines are equal but the df doesn´t show them as equal, still figuring out "
   ]
  },
  {
   "cell_type": "code",
   "execution_count": 66,
   "metadata": {},
   "outputs": [
    {
     "data": {
      "text/html": [
       "<div>\n",
       "<style scoped>\n",
       "    .dataframe tbody tr th:only-of-type {\n",
       "        vertical-align: middle;\n",
       "    }\n",
       "\n",
       "    .dataframe tbody tr th {\n",
       "        vertical-align: top;\n",
       "    }\n",
       "\n",
       "    .dataframe thead th {\n",
       "        text-align: right;\n",
       "    }\n",
       "</style>\n",
       "<table border=\"1\" class=\"dataframe\">\n",
       "  <thead>\n",
       "    <tr style=\"text-align: right;\">\n",
       "      <th></th>\n",
       "      <th>location_id</th>\n",
       "      <th>name</th>\n",
       "      <th>distance</th>\n",
       "      <th>bearing</th>\n",
       "      <th>address_obj.street1</th>\n",
       "      <th>address_obj.street2</th>\n",
       "      <th>address_obj.city</th>\n",
       "      <th>address_obj.country</th>\n",
       "      <th>address_obj.address_string</th>\n",
       "      <th>address_obj.postalcode</th>\n",
       "    </tr>\n",
       "  </thead>\n",
       "  <tbody>\n",
       "    <tr>\n",
       "      <th>0</th>\n",
       "      <td>3941742.0</td>\n",
       "      <td>Rest. Pizzaria A Variante</td>\n",
       "      <td>1.136036</td>\n",
       "      <td>northwest</td>\n",
       "      <td>En 234-1</td>\n",
       "      <td>40° 14' 51.19, -8° 29' 39.20</td>\n",
       "      <td>Coimbra</td>\n",
       "      <td>Portugal</td>\n",
       "      <td>En 234-1 40° 14' 51.19, -8° 29' 39.20, Coimbra...</td>\n",
       "      <td>NaN</td>\n",
       "    </tr>\n",
       "    <tr>\n",
       "      <th>1</th>\n",
       "      <td>25131407.0</td>\n",
       "      <td>Alto do Padrao Restaurante</td>\n",
       "      <td>0.087935</td>\n",
       "      <td>east</td>\n",
       "      <td>Rua Senhora dos Remedios</td>\n",
       "      <td>Padrão Industrial Zone</td>\n",
       "      <td>Lousa</td>\n",
       "      <td>Portugal</td>\n",
       "      <td>Rua Senhora dos Remedios Padrão Industrial Zon...</td>\n",
       "      <td>3200-193</td>\n",
       "    </tr>\n",
       "  </tbody>\n",
       "</table>\n",
       "</div>"
      ],
      "text/plain": [
       "   location_id                        name  distance    bearing  \\\n",
       "0    3941742.0   Rest. Pizzaria A Variante  1.136036  northwest   \n",
       "1   25131407.0  Alto do Padrao Restaurante  0.087935       east   \n",
       "\n",
       "        address_obj.street1           address_obj.street2 address_obj.city  \\\n",
       "0                  En 234-1  40° 14' 51.19, -8° 29' 39.20          Coimbra   \n",
       "1  Rua Senhora dos Remedios        Padrão Industrial Zone            Lousa   \n",
       "\n",
       "  address_obj.country                         address_obj.address_string  \\\n",
       "0            Portugal  En 234-1 40° 14' 51.19, -8° 29' 39.20, Coimbra...   \n",
       "1            Portugal  Rua Senhora dos Remedios Padrão Industrial Zon...   \n",
       "\n",
       "  address_obj.postalcode  \n",
       "0                    NaN  \n",
       "1               3200-193  "
      ]
     },
     "execution_count": 66,
     "metadata": {},
     "output_type": "execute_result"
    }
   ],
   "source": [
    "# restaurants\n",
    "restaurants_df = pd.read_csv('restaurants_api1000.csv')\n",
    "restaurants_df.head(2)"
   ]
  },
  {
   "cell_type": "code",
   "execution_count": 67,
   "metadata": {},
   "outputs": [
    {
     "data": {
      "text/plain": [
       "8979"
      ]
     },
     "execution_count": 67,
     "metadata": {},
     "output_type": "execute_result"
    }
   ],
   "source": [
    "len(restaurants_df)"
   ]
  },
  {
   "cell_type": "code",
   "execution_count": 68,
   "metadata": {},
   "outputs": [
    {
     "data": {
      "text/plain": [
       "location_id                     13\n",
       "name                            13\n",
       "distance                        13\n",
       "bearing                         13\n",
       "address_obj.street1            148\n",
       "address_obj.street2           6251\n",
       "address_obj.city                13\n",
       "address_obj.country             13\n",
       "address_obj.address_string      13\n",
       "address_obj.postalcode         375\n",
       "dtype: int64"
      ]
     },
     "execution_count": 68,
     "metadata": {},
     "output_type": "execute_result"
    }
   ],
   "source": [
    "restaurants_df.isnull().sum()"
   ]
  },
  {
   "cell_type": "code",
   "execution_count": 69,
   "metadata": {},
   "outputs": [],
   "source": [
    "restaurants_df = restaurants_df.drop('address_obj.street2', axis=1)"
   ]
  },
  {
   "cell_type": "code",
   "execution_count": 70,
   "metadata": {},
   "outputs": [],
   "source": [
    "restaurants_df = restaurants_df.dropna()"
   ]
  },
  {
   "cell_type": "code",
   "execution_count": 73,
   "metadata": {},
   "outputs": [
    {
     "data": {
      "text/plain": [
       "0"
      ]
     },
     "execution_count": 73,
     "metadata": {},
     "output_type": "execute_result"
    }
   ],
   "source": [
    "#restaurants_df.isnull().sum()\n",
    "hotels_df.duplicated().sum()\n"
   ]
  },
  {
   "cell_type": "code",
   "execution_count": 74,
   "metadata": {},
   "outputs": [],
   "source": [
    "restaurants_df = restaurants_df.rename(columns={'address_obj.street1': 'street', 'address_obj.city': 'city', 'address_obj.country': 'country', 'address_obj.postalcode': 'postal_code', 'address_obj.address_string': 'complete_address'})"
   ]
  },
  {
   "cell_type": "code",
   "execution_count": 75,
   "metadata": {},
   "outputs": [],
   "source": [
    "restaurants_df['type'] = 'restaurant'"
   ]
  },
  {
   "cell_type": "code",
   "execution_count": 78,
   "metadata": {},
   "outputs": [
    {
     "data": {
      "text/html": [
       "<div>\n",
       "<style scoped>\n",
       "    .dataframe tbody tr th:only-of-type {\n",
       "        vertical-align: middle;\n",
       "    }\n",
       "\n",
       "    .dataframe tbody tr th {\n",
       "        vertical-align: top;\n",
       "    }\n",
       "\n",
       "    .dataframe thead th {\n",
       "        text-align: right;\n",
       "    }\n",
       "</style>\n",
       "<table border=\"1\" class=\"dataframe\">\n",
       "  <thead>\n",
       "    <tr style=\"text-align: right;\">\n",
       "      <th></th>\n",
       "      <th>location_id</th>\n",
       "      <th>name</th>\n",
       "      <th>distance</th>\n",
       "      <th>bearing</th>\n",
       "      <th>street</th>\n",
       "      <th>city</th>\n",
       "      <th>country</th>\n",
       "      <th>complete_address</th>\n",
       "      <th>postal_code</th>\n",
       "      <th>type</th>\n",
       "    </tr>\n",
       "  </thead>\n",
       "  <tbody>\n",
       "    <tr>\n",
       "      <th>1</th>\n",
       "      <td>25131407.0</td>\n",
       "      <td>Alto do Padrao Restaurante</td>\n",
       "      <td>0.087935</td>\n",
       "      <td>east</td>\n",
       "      <td>Rua Senhora dos Remedios</td>\n",
       "      <td>Lousa</td>\n",
       "      <td>Portugal</td>\n",
       "      <td>Rua Senhora dos Remedios Padrão Industrial Zon...</td>\n",
       "      <td>3200-193</td>\n",
       "      <td>restaurant</td>\n",
       "    </tr>\n",
       "    <tr>\n",
       "      <th>2</th>\n",
       "      <td>6437542.0</td>\n",
       "      <td>Restaurante Fornos de Sao Domingos</td>\n",
       "      <td>0.543903</td>\n",
       "      <td>north</td>\n",
       "      <td>Rua do Apeadeiro, Fornos</td>\n",
       "      <td>Coimbra</td>\n",
       "      <td>Portugal</td>\n",
       "      <td>Rua do Apeadeiro, Fornos, Coimbra 3020-927 Por...</td>\n",
       "      <td>3020-927</td>\n",
       "      <td>restaurant</td>\n",
       "    </tr>\n",
       "  </tbody>\n",
       "</table>\n",
       "</div>"
      ],
      "text/plain": [
       "   location_id                                name  distance bearing  \\\n",
       "1   25131407.0          Alto do Padrao Restaurante  0.087935    east   \n",
       "2    6437542.0  Restaurante Fornos de Sao Domingos  0.543903   north   \n",
       "\n",
       "                     street     city   country  \\\n",
       "1  Rua Senhora dos Remedios    Lousa  Portugal   \n",
       "2  Rua do Apeadeiro, Fornos  Coimbra  Portugal   \n",
       "\n",
       "                                    complete_address postal_code        type  \n",
       "1  Rua Senhora dos Remedios Padrão Industrial Zon...    3200-193  restaurant  \n",
       "2  Rua do Apeadeiro, Fornos, Coimbra 3020-927 Por...    3020-927  restaurant  "
      ]
     },
     "execution_count": 78,
     "metadata": {},
     "output_type": "execute_result"
    }
   ],
   "source": [
    "restaurants_df.head(2)\n",
    "# restaurant df clean"
   ]
  },
  {
   "cell_type": "code",
   "execution_count": 81,
   "metadata": {},
   "outputs": [],
   "source": [
    "portugal_dates_complete = pd.concat([restaurants_df, attractions_df, hotels_df])"
   ]
  },
  {
   "cell_type": "code",
   "execution_count": 82,
   "metadata": {},
   "outputs": [
    {
     "data": {
      "text/html": [
       "<div>\n",
       "<style scoped>\n",
       "    .dataframe tbody tr th:only-of-type {\n",
       "        vertical-align: middle;\n",
       "    }\n",
       "\n",
       "    .dataframe tbody tr th {\n",
       "        vertical-align: top;\n",
       "    }\n",
       "\n",
       "    .dataframe thead th {\n",
       "        text-align: right;\n",
       "    }\n",
       "</style>\n",
       "<table border=\"1\" class=\"dataframe\">\n",
       "  <thead>\n",
       "    <tr style=\"text-align: right;\">\n",
       "      <th></th>\n",
       "      <th>location_id</th>\n",
       "      <th>name</th>\n",
       "      <th>distance</th>\n",
       "      <th>bearing</th>\n",
       "      <th>street</th>\n",
       "      <th>city</th>\n",
       "      <th>country</th>\n",
       "      <th>complete_address</th>\n",
       "      <th>postal_code</th>\n",
       "      <th>type</th>\n",
       "    </tr>\n",
       "  </thead>\n",
       "  <tbody>\n",
       "    <tr>\n",
       "      <th>1</th>\n",
       "      <td>25131407.0</td>\n",
       "      <td>Alto do Padrao Restaurante</td>\n",
       "      <td>0.087935</td>\n",
       "      <td>east</td>\n",
       "      <td>Rua Senhora dos Remedios</td>\n",
       "      <td>Lousa</td>\n",
       "      <td>Portugal</td>\n",
       "      <td>Rua Senhora dos Remedios Padrão Industrial Zon...</td>\n",
       "      <td>3200-193</td>\n",
       "      <td>restaurant</td>\n",
       "    </tr>\n",
       "    <tr>\n",
       "      <th>2</th>\n",
       "      <td>6437542.0</td>\n",
       "      <td>Restaurante Fornos de Sao Domingos</td>\n",
       "      <td>0.543903</td>\n",
       "      <td>north</td>\n",
       "      <td>Rua do Apeadeiro, Fornos</td>\n",
       "      <td>Coimbra</td>\n",
       "      <td>Portugal</td>\n",
       "      <td>Rua do Apeadeiro, Fornos, Coimbra 3020-927 Por...</td>\n",
       "      <td>3020-927</td>\n",
       "      <td>restaurant</td>\n",
       "    </tr>\n",
       "    <tr>\n",
       "      <th>3</th>\n",
       "      <td>12311563.0</td>\n",
       "      <td>Restaurante Arco-Iris Pizzaria</td>\n",
       "      <td>0.604112</td>\n",
       "      <td>northwest</td>\n",
       "      <td>Rua da Fontinha, n0 5, Corujeira</td>\n",
       "      <td>Coimbra</td>\n",
       "      <td>Portugal</td>\n",
       "      <td>Rua da Fontinha, n0 5, Corujeira Corujeira Sao...</td>\n",
       "      <td>3045-069</td>\n",
       "      <td>restaurant</td>\n",
       "    </tr>\n",
       "    <tr>\n",
       "      <th>4</th>\n",
       "      <td>25333498.0</td>\n",
       "      <td>Padaria Central de Sao Martinho</td>\n",
       "      <td>0.681910</td>\n",
       "      <td>northeast</td>\n",
       "      <td>Rua eng Julio Araujo Vieira 25a</td>\n",
       "      <td>Coimbra</td>\n",
       "      <td>Portugal</td>\n",
       "      <td>Rua eng Julio Araujo Vieira 25a 25a, Coimbra 3...</td>\n",
       "      <td>3040-300</td>\n",
       "      <td>restaurant</td>\n",
       "    </tr>\n",
       "    <tr>\n",
       "      <th>5</th>\n",
       "      <td>14782747.0</td>\n",
       "      <td>Lua Nova</td>\n",
       "      <td>0.757708</td>\n",
       "      <td>northeast</td>\n",
       "      <td>Rua padre Julio Marques, Lt2, Rc</td>\n",
       "      <td>Coimbra</td>\n",
       "      <td>Portugal</td>\n",
       "      <td>Rua padre Julio Marques, Lt2, Rc, Coimbra 3045...</td>\n",
       "      <td>3045-108</td>\n",
       "      <td>restaurant</td>\n",
       "    </tr>\n",
       "    <tr>\n",
       "      <th>...</th>\n",
       "      <td>...</td>\n",
       "      <td>...</td>\n",
       "      <td>...</td>\n",
       "      <td>...</td>\n",
       "      <td>...</td>\n",
       "      <td>...</td>\n",
       "      <td>...</td>\n",
       "      <td>...</td>\n",
       "      <td>...</td>\n",
       "      <td>...</td>\n",
       "    </tr>\n",
       "    <tr>\n",
       "      <th>5386</th>\n",
       "      <td>1899880.0</td>\n",
       "      <td>Residencial Dora</td>\n",
       "      <td>0.438922</td>\n",
       "      <td>northwest</td>\n",
       "      <td>Largo Senhora-a-Branca 92 94</td>\n",
       "      <td>Braga</td>\n",
       "      <td>Portugal</td>\n",
       "      <td>Largo Senhora-a-Branca 92 94, Braga 4710-926 P...</td>\n",
       "      <td>4710-926</td>\n",
       "      <td>hotel</td>\n",
       "    </tr>\n",
       "    <tr>\n",
       "      <th>5387</th>\n",
       "      <td>613552.0</td>\n",
       "      <td>Hotel Bracara Augusta</td>\n",
       "      <td>0.588442</td>\n",
       "      <td>west</td>\n",
       "      <td>Avenida Central no 134</td>\n",
       "      <td>Braga</td>\n",
       "      <td>Portugal</td>\n",
       "      <td>Avenida Central no 134, Braga 4710-229 Portugal</td>\n",
       "      <td>4710-229</td>\n",
       "      <td>hotel</td>\n",
       "    </tr>\n",
       "    <tr>\n",
       "      <th>5388</th>\n",
       "      <td>633325.0</td>\n",
       "      <td>Hotel Residencial Avenida</td>\n",
       "      <td>0.736528</td>\n",
       "      <td>west</td>\n",
       "      <td>Avenida Central</td>\n",
       "      <td>Braga</td>\n",
       "      <td>Portugal</td>\n",
       "      <td>Avenida Central, Braga 4710-228 Portugal</td>\n",
       "      <td>4710-228</td>\n",
       "      <td>hotel</td>\n",
       "    </tr>\n",
       "    <tr>\n",
       "      <th>5389</th>\n",
       "      <td>324282.0</td>\n",
       "      <td>Hotel Senhora-a-Branca</td>\n",
       "      <td>0.445498</td>\n",
       "      <td>northwest</td>\n",
       "      <td>Largo Sra. A. Branca 58</td>\n",
       "      <td>Braga</td>\n",
       "      <td>Portugal</td>\n",
       "      <td>Largo Sra. A. Branca 58, Braga 4710-443 Portugal</td>\n",
       "      <td>4710-443</td>\n",
       "      <td>hotel</td>\n",
       "    </tr>\n",
       "    <tr>\n",
       "      <th>5390</th>\n",
       "      <td>966254.0</td>\n",
       "      <td>Hotel Villa Garden Braga</td>\n",
       "      <td>0.769453</td>\n",
       "      <td>northwest</td>\n",
       "      <td>Largo de Infias</td>\n",
       "      <td>Braga</td>\n",
       "      <td>Portugal</td>\n",
       "      <td>Largo de Infias, Braga 4710-299 Portugal</td>\n",
       "      <td>4710-299</td>\n",
       "      <td>hotel</td>\n",
       "    </tr>\n",
       "  </tbody>\n",
       "</table>\n",
       "<p>14455 rows × 10 columns</p>\n",
       "</div>"
      ],
      "text/plain": [
       "      location_id                                name  distance    bearing  \\\n",
       "1      25131407.0          Alto do Padrao Restaurante  0.087935       east   \n",
       "2       6437542.0  Restaurante Fornos de Sao Domingos  0.543903      north   \n",
       "3      12311563.0      Restaurante Arco-Iris Pizzaria  0.604112  northwest   \n",
       "4      25333498.0     Padaria Central de Sao Martinho  0.681910  northeast   \n",
       "5      14782747.0                            Lua Nova  0.757708  northeast   \n",
       "...           ...                                 ...       ...        ...   \n",
       "5386    1899880.0                    Residencial Dora  0.438922  northwest   \n",
       "5387     613552.0               Hotel Bracara Augusta  0.588442       west   \n",
       "5388     633325.0           Hotel Residencial Avenida  0.736528       west   \n",
       "5389     324282.0              Hotel Senhora-a-Branca  0.445498  northwest   \n",
       "5390     966254.0            Hotel Villa Garden Braga  0.769453  northwest   \n",
       "\n",
       "                                street     city   country  \\\n",
       "1             Rua Senhora dos Remedios    Lousa  Portugal   \n",
       "2             Rua do Apeadeiro, Fornos  Coimbra  Portugal   \n",
       "3     Rua da Fontinha, n0 5, Corujeira  Coimbra  Portugal   \n",
       "4      Rua eng Julio Araujo Vieira 25a  Coimbra  Portugal   \n",
       "5     Rua padre Julio Marques, Lt2, Rc  Coimbra  Portugal   \n",
       "...                                ...      ...       ...   \n",
       "5386      Largo Senhora-a-Branca 92 94    Braga  Portugal   \n",
       "5387            Avenida Central no 134    Braga  Portugal   \n",
       "5388                   Avenida Central    Braga  Portugal   \n",
       "5389           Largo Sra. A. Branca 58    Braga  Portugal   \n",
       "5390                   Largo de Infias    Braga  Portugal   \n",
       "\n",
       "                                       complete_address postal_code  \\\n",
       "1     Rua Senhora dos Remedios Padrão Industrial Zon...    3200-193   \n",
       "2     Rua do Apeadeiro, Fornos, Coimbra 3020-927 Por...    3020-927   \n",
       "3     Rua da Fontinha, n0 5, Corujeira Corujeira Sao...    3045-069   \n",
       "4     Rua eng Julio Araujo Vieira 25a 25a, Coimbra 3...    3040-300   \n",
       "5     Rua padre Julio Marques, Lt2, Rc, Coimbra 3045...    3045-108   \n",
       "...                                                 ...         ...   \n",
       "5386  Largo Senhora-a-Branca 92 94, Braga 4710-926 P...    4710-926   \n",
       "5387    Avenida Central no 134, Braga 4710-229 Portugal    4710-229   \n",
       "5388           Avenida Central, Braga 4710-228 Portugal    4710-228   \n",
       "5389   Largo Sra. A. Branca 58, Braga 4710-443 Portugal    4710-443   \n",
       "5390           Largo de Infias, Braga 4710-299 Portugal    4710-299   \n",
       "\n",
       "            type  \n",
       "1     restaurant  \n",
       "2     restaurant  \n",
       "3     restaurant  \n",
       "4     restaurant  \n",
       "5     restaurant  \n",
       "...          ...  \n",
       "5386       hotel  \n",
       "5387       hotel  \n",
       "5388       hotel  \n",
       "5389       hotel  \n",
       "5390       hotel  \n",
       "\n",
       "[14455 rows x 10 columns]"
      ]
     },
     "execution_count": 82,
     "metadata": {},
     "output_type": "execute_result"
    }
   ],
   "source": [
    "portugal_dates_complete"
   ]
  },
  {
   "cell_type": "code",
   "execution_count": 87,
   "metadata": {},
   "outputs": [],
   "source": [
    "#portugal_dates_complete.isnull().sum()\n",
    "#portugal_dates_complete.duplicated()"
   ]
  },
  {
   "cell_type": "code",
   "execution_count": 93,
   "metadata": {},
   "outputs": [
    {
     "data": {
      "text/html": [
       "<div>\n",
       "<style scoped>\n",
       "    .dataframe tbody tr th:only-of-type {\n",
       "        vertical-align: middle;\n",
       "    }\n",
       "\n",
       "    .dataframe tbody tr th {\n",
       "        vertical-align: top;\n",
       "    }\n",
       "\n",
       "    .dataframe thead th {\n",
       "        text-align: right;\n",
       "    }\n",
       "</style>\n",
       "<table border=\"1\" class=\"dataframe\">\n",
       "  <thead>\n",
       "    <tr style=\"text-align: right;\">\n",
       "      <th></th>\n",
       "      <th>postal_code</th>\n",
       "      <th>cod_distrito</th>\n",
       "      <th>cod_concelho</th>\n",
       "      <th>cod_localidade</th>\n",
       "      <th>nome_localidade</th>\n",
       "      <th>num_cod_postal</th>\n",
       "      <th>ext_cod_postal</th>\n",
       "      <th>desig_postal</th>\n",
       "      <th>nome_concelho</th>\n",
       "      <th>nome_distrito</th>\n",
       "      <th>LatLong</th>\n",
       "    </tr>\n",
       "  </thead>\n",
       "  <tbody>\n",
       "    <tr>\n",
       "      <th>0</th>\n",
       "      <td>3810-081</td>\n",
       "      <td>1</td>\n",
       "      <td>5</td>\n",
       "      <td>6684</td>\n",
       "      <td>Aveiro</td>\n",
       "      <td>3810</td>\n",
       "      <td>81</td>\n",
       "      <td>AVEIRO</td>\n",
       "      <td>Aveiro</td>\n",
       "      <td>Aveiro</td>\n",
       "      <td>40.62887582899364%2C-8.65228518482195</td>\n",
       "    </tr>\n",
       "    <tr>\n",
       "      <th>1</th>\n",
       "      <td>3810-241</td>\n",
       "      <td>1</td>\n",
       "      <td>5</td>\n",
       "      <td>6684</td>\n",
       "      <td>Aveiro</td>\n",
       "      <td>3810</td>\n",
       "      <td>241</td>\n",
       "      <td>AVEIRO</td>\n",
       "      <td>Aveiro</td>\n",
       "      <td>Aveiro</td>\n",
       "      <td>40.61406567266208%2C-8.622342018296207</td>\n",
       "    </tr>\n",
       "    <tr>\n",
       "      <th>2</th>\n",
       "      <td>3810-034</td>\n",
       "      <td>1</td>\n",
       "      <td>5</td>\n",
       "      <td>6684</td>\n",
       "      <td>Aveiro</td>\n",
       "      <td>3810</td>\n",
       "      <td>34</td>\n",
       "      <td>AVEIRO</td>\n",
       "      <td>Aveiro</td>\n",
       "      <td>Aveiro</td>\n",
       "      <td>40.63989803988801%2C-8.623689068784762</td>\n",
       "    </tr>\n",
       "    <tr>\n",
       "      <th>3</th>\n",
       "      <td>3810-242</td>\n",
       "      <td>1</td>\n",
       "      <td>5</td>\n",
       "      <td>6684</td>\n",
       "      <td>Aveiro</td>\n",
       "      <td>3810</td>\n",
       "      <td>242</td>\n",
       "      <td>AVEIRO</td>\n",
       "      <td>Aveiro</td>\n",
       "      <td>Aveiro</td>\n",
       "      <td>40.638956674813514%2C-8.614828028702632</td>\n",
       "    </tr>\n",
       "    <tr>\n",
       "      <th>4</th>\n",
       "      <td>3810-245</td>\n",
       "      <td>1</td>\n",
       "      <td>5</td>\n",
       "      <td>6684</td>\n",
       "      <td>Aveiro</td>\n",
       "      <td>3810</td>\n",
       "      <td>245</td>\n",
       "      <td>AVEIRO</td>\n",
       "      <td>Aveiro</td>\n",
       "      <td>Aveiro</td>\n",
       "      <td>40.616296089045086%2C-8.621956502189505</td>\n",
       "    </tr>\n",
       "  </tbody>\n",
       "</table>\n",
       "</div>"
      ],
      "text/plain": [
       "  postal_code  cod_distrito  cod_concelho  cod_localidade nome_localidade  \\\n",
       "0    3810-081             1             5            6684          Aveiro   \n",
       "1    3810-241             1             5            6684          Aveiro   \n",
       "2    3810-034             1             5            6684          Aveiro   \n",
       "3    3810-242             1             5            6684          Aveiro   \n",
       "4    3810-245             1             5            6684          Aveiro   \n",
       "\n",
       "   num_cod_postal  ext_cod_postal desig_postal nome_concelho nome_distrito  \\\n",
       "0            3810              81       AVEIRO        Aveiro        Aveiro   \n",
       "1            3810             241       AVEIRO        Aveiro        Aveiro   \n",
       "2            3810              34       AVEIRO        Aveiro        Aveiro   \n",
       "3            3810             242       AVEIRO        Aveiro        Aveiro   \n",
       "4            3810             245       AVEIRO        Aveiro        Aveiro   \n",
       "\n",
       "                                   LatLong  \n",
       "0    40.62887582899364%2C-8.65228518482195  \n",
       "1   40.61406567266208%2C-8.622342018296207  \n",
       "2   40.63989803988801%2C-8.623689068784762  \n",
       "3  40.638956674813514%2C-8.614828028702632  \n",
       "4  40.616296089045086%2C-8.621956502189505  "
      ]
     },
     "execution_count": 93,
     "metadata": {},
     "output_type": "execute_result"
    }
   ],
   "source": [
    "coordinates = pd.read_csv('finalcoordinates_forAPI.csv')\n",
    "coordinates.head()"
   ]
  },
  {
   "cell_type": "code",
   "execution_count": 96,
   "metadata": {},
   "outputs": [],
   "source": [
    "coordinates.drop('cod_distrito', axis=1, inplace=True)"
   ]
  },
  {
   "cell_type": "code",
   "execution_count": 99,
   "metadata": {},
   "outputs": [],
   "source": [
    "coordinates.drop(['cod_concelho', \"cod_localidade\",\"nome_localidade\", \"num_cod_postal\", \"ext_cod_postal\", \"desig_postal\", \"nome_concelho\", \"nome_distrito\"], axis=1, inplace=True)"
   ]
  },
  {
   "cell_type": "code",
   "execution_count": 101,
   "metadata": {},
   "outputs": [
    {
     "data": {
      "text/html": [
       "<div>\n",
       "<style scoped>\n",
       "    .dataframe tbody tr th:only-of-type {\n",
       "        vertical-align: middle;\n",
       "    }\n",
       "\n",
       "    .dataframe tbody tr th {\n",
       "        vertical-align: top;\n",
       "    }\n",
       "\n",
       "    .dataframe thead th {\n",
       "        text-align: right;\n",
       "    }\n",
       "</style>\n",
       "<table border=\"1\" class=\"dataframe\">\n",
       "  <thead>\n",
       "    <tr style=\"text-align: right;\">\n",
       "      <th></th>\n",
       "      <th>postal_code</th>\n",
       "      <th>LatLong</th>\n",
       "      <th>location_id</th>\n",
       "      <th>name</th>\n",
       "      <th>distance</th>\n",
       "      <th>bearing</th>\n",
       "      <th>street</th>\n",
       "      <th>city</th>\n",
       "      <th>country</th>\n",
       "      <th>complete_address</th>\n",
       "      <th>type</th>\n",
       "    </tr>\n",
       "  </thead>\n",
       "  <tbody>\n",
       "    <tr>\n",
       "      <th>0</th>\n",
       "      <td>3810-082</td>\n",
       "      <td>40.64045267512721%2C-8.648788675434677</td>\n",
       "      <td>17593319.0</td>\n",
       "      <td>Cereal World Aveiro</td>\n",
       "      <td>0.059939</td>\n",
       "      <td>northwest</td>\n",
       "      <td>Avenida 5 de Outubro 18</td>\n",
       "      <td>Aveiro</td>\n",
       "      <td>Portugal</td>\n",
       "      <td>Avenida 5 de Outubro 18, Aveiro 3810-082 Portugal</td>\n",
       "      <td>restaurant</td>\n",
       "    </tr>\n",
       "    <tr>\n",
       "      <th>1</th>\n",
       "      <td>3810-082</td>\n",
       "      <td>40.64045267512721%2C-8.648788675434677</td>\n",
       "      <td>23487448.0</td>\n",
       "      <td>Bema</td>\n",
       "      <td>0.063202</td>\n",
       "      <td>west</td>\n",
       "      <td>Avenida 5 de Outubro 41</td>\n",
       "      <td>Aveiro</td>\n",
       "      <td>Portugal</td>\n",
       "      <td>Avenida 5 de Outubro 41, Aveiro 3810-082 Portugal</td>\n",
       "      <td>restaurant</td>\n",
       "    </tr>\n",
       "    <tr>\n",
       "      <th>2</th>\n",
       "      <td>3810-082</td>\n",
       "      <td>40.64045267512721%2C-8.648788675434677</td>\n",
       "      <td>17593319.0</td>\n",
       "      <td>Cereal World Aveiro</td>\n",
       "      <td>0.091396</td>\n",
       "      <td>northwest</td>\n",
       "      <td>Avenida 5 de Outubro 18</td>\n",
       "      <td>Aveiro</td>\n",
       "      <td>Portugal</td>\n",
       "      <td>Avenida 5 de Outubro 18, Aveiro 3810-082 Portugal</td>\n",
       "      <td>restaurant</td>\n",
       "    </tr>\n",
       "    <tr>\n",
       "      <th>3</th>\n",
       "      <td>3810-082</td>\n",
       "      <td>40.64045267512721%2C-8.648788675434677</td>\n",
       "      <td>23487448.0</td>\n",
       "      <td>Bema</td>\n",
       "      <td>0.074411</td>\n",
       "      <td>west</td>\n",
       "      <td>Avenida 5 de Outubro 41</td>\n",
       "      <td>Aveiro</td>\n",
       "      <td>Portugal</td>\n",
       "      <td>Avenida 5 de Outubro 41, Aveiro 3810-082 Portugal</td>\n",
       "      <td>restaurant</td>\n",
       "    </tr>\n",
       "    <tr>\n",
       "      <th>4</th>\n",
       "      <td>3810-082</td>\n",
       "      <td>40.64045267512721%2C-8.648788675434677</td>\n",
       "      <td>23487448.0</td>\n",
       "      <td>Bema</td>\n",
       "      <td>0.111488</td>\n",
       "      <td>north</td>\n",
       "      <td>Avenida 5 de Outubro 41</td>\n",
       "      <td>Aveiro</td>\n",
       "      <td>Portugal</td>\n",
       "      <td>Avenida 5 de Outubro 41, Aveiro 3810-082 Portugal</td>\n",
       "      <td>restaurant</td>\n",
       "    </tr>\n",
       "    <tr>\n",
       "      <th>...</th>\n",
       "      <td>...</td>\n",
       "      <td>...</td>\n",
       "      <td>...</td>\n",
       "      <td>...</td>\n",
       "      <td>...</td>\n",
       "      <td>...</td>\n",
       "      <td>...</td>\n",
       "      <td>...</td>\n",
       "      <td>...</td>\n",
       "      <td>...</td>\n",
       "      <td>...</td>\n",
       "    </tr>\n",
       "    <tr>\n",
       "      <th>12052</th>\n",
       "      <td>7005-638</td>\n",
       "      <td>38.58887763863615%2C-7.909512996640514</td>\n",
       "      <td>21184546.0</td>\n",
       "      <td>El Loro Tacos</td>\n",
       "      <td>0.575836</td>\n",
       "      <td>east</td>\n",
       "      <td>Rua do Viveiro 5</td>\n",
       "      <td>Evora</td>\n",
       "      <td>Portugal</td>\n",
       "      <td>Rua do Viveiro 5, Evora 7005-638 Portugal</td>\n",
       "      <td>restaurant</td>\n",
       "    </tr>\n",
       "    <tr>\n",
       "      <th>12053</th>\n",
       "      <td>7005-638</td>\n",
       "      <td>38.58887763863615%2C-7.909512996640514</td>\n",
       "      <td>21184546.0</td>\n",
       "      <td>El Loro Tacos</td>\n",
       "      <td>0.919816</td>\n",
       "      <td>north</td>\n",
       "      <td>Rua do Viveiro 5</td>\n",
       "      <td>Evora</td>\n",
       "      <td>Portugal</td>\n",
       "      <td>Rua do Viveiro 5, Evora 7005-638 Portugal</td>\n",
       "      <td>restaurant</td>\n",
       "    </tr>\n",
       "    <tr>\n",
       "      <th>12054</th>\n",
       "      <td>7005-638</td>\n",
       "      <td>38.58887763863615%2C-7.909512996640514</td>\n",
       "      <td>21184546.0</td>\n",
       "      <td>El Loro Tacos</td>\n",
       "      <td>1.228271</td>\n",
       "      <td>southeast</td>\n",
       "      <td>Rua do Viveiro 5</td>\n",
       "      <td>Evora</td>\n",
       "      <td>Portugal</td>\n",
       "      <td>Rua do Viveiro 5, Evora 7005-638 Portugal</td>\n",
       "      <td>restaurant</td>\n",
       "    </tr>\n",
       "    <tr>\n",
       "      <th>12055</th>\n",
       "      <td>7005-638</td>\n",
       "      <td>38.58887763863615%2C-7.909512996640514</td>\n",
       "      <td>21184546.0</td>\n",
       "      <td>El Loro Tacos</td>\n",
       "      <td>0.202195</td>\n",
       "      <td>northwest</td>\n",
       "      <td>Rua do Viveiro 5</td>\n",
       "      <td>Evora</td>\n",
       "      <td>Portugal</td>\n",
       "      <td>Rua do Viveiro 5, Evora 7005-638 Portugal</td>\n",
       "      <td>restaurant</td>\n",
       "    </tr>\n",
       "    <tr>\n",
       "      <th>12056</th>\n",
       "      <td>7005-638</td>\n",
       "      <td>38.58887763863615%2C-7.909512996640514</td>\n",
       "      <td>21184546.0</td>\n",
       "      <td>El Loro Tacos</td>\n",
       "      <td>0.574311</td>\n",
       "      <td>west</td>\n",
       "      <td>Rua do Viveiro 5</td>\n",
       "      <td>Evora</td>\n",
       "      <td>Portugal</td>\n",
       "      <td>Rua do Viveiro 5, Evora 7005-638 Portugal</td>\n",
       "      <td>restaurant</td>\n",
       "    </tr>\n",
       "  </tbody>\n",
       "</table>\n",
       "<p>12057 rows × 11 columns</p>\n",
       "</div>"
      ],
      "text/plain": [
       "      postal_code                                 LatLong  location_id  \\\n",
       "0        3810-082  40.64045267512721%2C-8.648788675434677   17593319.0   \n",
       "1        3810-082  40.64045267512721%2C-8.648788675434677   23487448.0   \n",
       "2        3810-082  40.64045267512721%2C-8.648788675434677   17593319.0   \n",
       "3        3810-082  40.64045267512721%2C-8.648788675434677   23487448.0   \n",
       "4        3810-082  40.64045267512721%2C-8.648788675434677   23487448.0   \n",
       "...           ...                                     ...          ...   \n",
       "12052    7005-638  38.58887763863615%2C-7.909512996640514   21184546.0   \n",
       "12053    7005-638  38.58887763863615%2C-7.909512996640514   21184546.0   \n",
       "12054    7005-638  38.58887763863615%2C-7.909512996640514   21184546.0   \n",
       "12055    7005-638  38.58887763863615%2C-7.909512996640514   21184546.0   \n",
       "12056    7005-638  38.58887763863615%2C-7.909512996640514   21184546.0   \n",
       "\n",
       "                      name  distance    bearing                   street  \\\n",
       "0      Cereal World Aveiro  0.059939  northwest  Avenida 5 de Outubro 18   \n",
       "1                     Bema  0.063202       west  Avenida 5 de Outubro 41   \n",
       "2      Cereal World Aveiro  0.091396  northwest  Avenida 5 de Outubro 18   \n",
       "3                     Bema  0.074411       west  Avenida 5 de Outubro 41   \n",
       "4                     Bema  0.111488      north  Avenida 5 de Outubro 41   \n",
       "...                    ...       ...        ...                      ...   \n",
       "12052        El Loro Tacos  0.575836       east         Rua do Viveiro 5   \n",
       "12053        El Loro Tacos  0.919816      north         Rua do Viveiro 5   \n",
       "12054        El Loro Tacos  1.228271  southeast         Rua do Viveiro 5   \n",
       "12055        El Loro Tacos  0.202195  northwest         Rua do Viveiro 5   \n",
       "12056        El Loro Tacos  0.574311       west         Rua do Viveiro 5   \n",
       "\n",
       "         city   country                                   complete_address  \\\n",
       "0      Aveiro  Portugal  Avenida 5 de Outubro 18, Aveiro 3810-082 Portugal   \n",
       "1      Aveiro  Portugal  Avenida 5 de Outubro 41, Aveiro 3810-082 Portugal   \n",
       "2      Aveiro  Portugal  Avenida 5 de Outubro 18, Aveiro 3810-082 Portugal   \n",
       "3      Aveiro  Portugal  Avenida 5 de Outubro 41, Aveiro 3810-082 Portugal   \n",
       "4      Aveiro  Portugal  Avenida 5 de Outubro 41, Aveiro 3810-082 Portugal   \n",
       "...       ...       ...                                                ...   \n",
       "12052   Evora  Portugal          Rua do Viveiro 5, Evora 7005-638 Portugal   \n",
       "12053   Evora  Portugal          Rua do Viveiro 5, Evora 7005-638 Portugal   \n",
       "12054   Evora  Portugal          Rua do Viveiro 5, Evora 7005-638 Portugal   \n",
       "12055   Evora  Portugal          Rua do Viveiro 5, Evora 7005-638 Portugal   \n",
       "12056   Evora  Portugal          Rua do Viveiro 5, Evora 7005-638 Portugal   \n",
       "\n",
       "             type  \n",
       "0      restaurant  \n",
       "1      restaurant  \n",
       "2      restaurant  \n",
       "3      restaurant  \n",
       "4      restaurant  \n",
       "...           ...  \n",
       "12052  restaurant  \n",
       "12053  restaurant  \n",
       "12054  restaurant  \n",
       "12055  restaurant  \n",
       "12056  restaurant  \n",
       "\n",
       "[12057 rows x 11 columns]"
      ]
     },
     "execution_count": 101,
     "metadata": {},
     "output_type": "execute_result"
    }
   ],
   "source": [
    "final_portugal_dates = pd.merge(coordinates, portugal_dates_complete, on='postal_code')\n",
    "final_portugal_dates"
   ]
  },
  {
   "cell_type": "code",
   "execution_count": 111,
   "metadata": {},
   "outputs": [
    {
     "data": {
      "text/plain": [
       "The Noble House               168\n",
       "Mercure Braga Centro           85\n",
       "Hotel Ibn-Arrik                85\n",
       "Pensao Residencial Antunes     84\n",
       "Despertar Saudade AL           84\n",
       "                             ... \n",
       "Golfinho Bar                    1\n",
       "A Cozinha da Maria              1\n",
       "Pepe Kebab                      1\n",
       "DOPPO Gelataria                 1\n",
       "Toca do Bacalhau                1\n",
       "Name: name, Length: 1251, dtype: int64"
      ]
     },
     "execution_count": 111,
     "metadata": {},
     "output_type": "execute_result"
    }
   ],
   "source": [
    "final_portugal_dates[\"name\"].value_counts()"
   ]
  },
  {
   "cell_type": "code",
   "execution_count": 114,
   "metadata": {},
   "outputs": [],
   "source": [
    "final_portugal_dates = final_portugal_dates.drop_duplicates(subset=['name'])\n"
   ]
  },
  {
   "cell_type": "code",
   "execution_count": 105,
   "metadata": {},
   "outputs": [
    {
     "data": {
      "text/plain": [
       "12057"
      ]
     },
     "execution_count": 105,
     "metadata": {},
     "output_type": "execute_result"
    }
   ],
   "source": [
    "#final_portugal_dates.isnull().sum()\n",
    "#final_portugal_dates.duplicated()\n",
    "len(final_portugal_dates)"
   ]
  },
  {
   "cell_type": "code",
   "execution_count": 127,
   "metadata": {},
   "outputs": [],
   "source": [
    "final_portugal_dates.to_csv('tripadvisornearbysearch.csv', index=False)"
   ]
  },
  {
   "cell_type": "code",
   "execution_count": 118,
   "metadata": {},
   "outputs": [],
   "source": [
    "final_portugal_dates = final_portugal_dates[final_portugal_dates['name'] != 'Primark']"
   ]
  },
  {
   "cell_type": "code",
   "execution_count": null,
   "metadata": {},
   "outputs": [],
   "source": [
    "final_portugal_dates['name'].str.capitalize()"
   ]
  },
  {
   "cell_type": "code",
   "execution_count": 126,
   "metadata": {},
   "outputs": [
    {
     "ename": "KeyError",
     "evalue": "'type'",
     "output_type": "error",
     "traceback": [
      "\u001b[0;31m---------------------------------------------------------------------------\u001b[0m",
      "\u001b[0;31mKeyError\u001b[0m                                  Traceback (most recent call last)",
      "File \u001b[0;32m~/.local/share/virtualenvs/DataDrivenPortugal-hG9oGiaH/lib/python3.10/site-packages/pandas/core/indexes/base.py:3802\u001b[0m, in \u001b[0;36mIndex.get_loc\u001b[0;34m(self, key, method, tolerance)\u001b[0m\n\u001b[1;32m   3801\u001b[0m \u001b[39mtry\u001b[39;00m:\n\u001b[0;32m-> 3802\u001b[0m     \u001b[39mreturn\u001b[39;00m \u001b[39mself\u001b[39;49m\u001b[39m.\u001b[39;49m_engine\u001b[39m.\u001b[39;49mget_loc(casted_key)\n\u001b[1;32m   3803\u001b[0m \u001b[39mexcept\u001b[39;00m \u001b[39mKeyError\u001b[39;00m \u001b[39mas\u001b[39;00m err:\n",
      "File \u001b[0;32m~/.local/share/virtualenvs/DataDrivenPortugal-hG9oGiaH/lib/python3.10/site-packages/pandas/_libs/index.pyx:138\u001b[0m, in \u001b[0;36mpandas._libs.index.IndexEngine.get_loc\u001b[0;34m()\u001b[0m\n",
      "File \u001b[0;32m~/.local/share/virtualenvs/DataDrivenPortugal-hG9oGiaH/lib/python3.10/site-packages/pandas/_libs/index.pyx:146\u001b[0m, in \u001b[0;36mpandas._libs.index.IndexEngine.get_loc\u001b[0;34m()\u001b[0m\n",
      "File \u001b[0;32mpandas/_libs/index_class_helper.pxi:49\u001b[0m, in \u001b[0;36mpandas._libs.index.Int64Engine._check_type\u001b[0;34m()\u001b[0m\n",
      "\u001b[0;31mKeyError\u001b[0m: 'type'",
      "\nThe above exception was the direct cause of the following exception:\n",
      "\u001b[0;31mKeyError\u001b[0m                                  Traceback (most recent call last)",
      "Cell \u001b[0;32mIn[126], line 1\u001b[0m\n\u001b[0;32m----> 1\u001b[0m \u001b[43mfinal_portugal_dates\u001b[49m\u001b[43m[\u001b[49m\u001b[38;5;124;43m'\u001b[39;49m\u001b[38;5;124;43mtype\u001b[39;49m\u001b[38;5;124;43m'\u001b[39;49m\u001b[43m]\u001b[49m\u001b[38;5;241m.\u001b[39mstr\u001b[38;5;241m.\u001b[39mcapitalize()\n",
      "File \u001b[0;32m~/.local/share/virtualenvs/DataDrivenPortugal-hG9oGiaH/lib/python3.10/site-packages/pandas/core/series.py:981\u001b[0m, in \u001b[0;36mSeries.__getitem__\u001b[0;34m(self, key)\u001b[0m\n\u001b[1;32m    978\u001b[0m     \u001b[39mreturn\u001b[39;00m \u001b[39mself\u001b[39m\u001b[39m.\u001b[39m_values[key]\n\u001b[1;32m    980\u001b[0m \u001b[39melif\u001b[39;00m key_is_scalar:\n\u001b[0;32m--> 981\u001b[0m     \u001b[39mreturn\u001b[39;00m \u001b[39mself\u001b[39;49m\u001b[39m.\u001b[39;49m_get_value(key)\n\u001b[1;32m    983\u001b[0m \u001b[39mif\u001b[39;00m is_hashable(key):\n\u001b[1;32m    984\u001b[0m     \u001b[39m# Otherwise index.get_value will raise InvalidIndexError\u001b[39;00m\n\u001b[1;32m    985\u001b[0m     \u001b[39mtry\u001b[39;00m:\n\u001b[1;32m    986\u001b[0m         \u001b[39m# For labels that don't resolve as scalars like tuples and frozensets\u001b[39;00m\n",
      "File \u001b[0;32m~/.local/share/virtualenvs/DataDrivenPortugal-hG9oGiaH/lib/python3.10/site-packages/pandas/core/series.py:1089\u001b[0m, in \u001b[0;36mSeries._get_value\u001b[0;34m(self, label, takeable)\u001b[0m\n\u001b[1;32m   1086\u001b[0m     \u001b[39mreturn\u001b[39;00m \u001b[39mself\u001b[39m\u001b[39m.\u001b[39m_values[label]\n\u001b[1;32m   1088\u001b[0m \u001b[39m# Similar to Index.get_value, but we do not fall back to positional\u001b[39;00m\n\u001b[0;32m-> 1089\u001b[0m loc \u001b[39m=\u001b[39m \u001b[39mself\u001b[39;49m\u001b[39m.\u001b[39;49mindex\u001b[39m.\u001b[39;49mget_loc(label)\n\u001b[1;32m   1090\u001b[0m \u001b[39mreturn\u001b[39;00m \u001b[39mself\u001b[39m\u001b[39m.\u001b[39mindex\u001b[39m.\u001b[39m_get_values_for_loc(\u001b[39mself\u001b[39m, loc, label)\n",
      "File \u001b[0;32m~/.local/share/virtualenvs/DataDrivenPortugal-hG9oGiaH/lib/python3.10/site-packages/pandas/core/indexes/base.py:3804\u001b[0m, in \u001b[0;36mIndex.get_loc\u001b[0;34m(self, key, method, tolerance)\u001b[0m\n\u001b[1;32m   3802\u001b[0m     \u001b[39mreturn\u001b[39;00m \u001b[39mself\u001b[39m\u001b[39m.\u001b[39m_engine\u001b[39m.\u001b[39mget_loc(casted_key)\n\u001b[1;32m   3803\u001b[0m \u001b[39mexcept\u001b[39;00m \u001b[39mKeyError\u001b[39;00m \u001b[39mas\u001b[39;00m err:\n\u001b[0;32m-> 3804\u001b[0m     \u001b[39mraise\u001b[39;00m \u001b[39mKeyError\u001b[39;00m(key) \u001b[39mfrom\u001b[39;00m \u001b[39merr\u001b[39;00m\n\u001b[1;32m   3805\u001b[0m \u001b[39mexcept\u001b[39;00m \u001b[39mTypeError\u001b[39;00m:\n\u001b[1;32m   3806\u001b[0m     \u001b[39m# If we have a listlike key, _check_indexing_error will raise\u001b[39;00m\n\u001b[1;32m   3807\u001b[0m     \u001b[39m#  InvalidIndexError. Otherwise we fall through and re-raise\u001b[39;00m\n\u001b[1;32m   3808\u001b[0m     \u001b[39m#  the TypeError.\u001b[39;00m\n\u001b[1;32m   3809\u001b[0m     \u001b[39mself\u001b[39m\u001b[39m.\u001b[39m_check_indexing_error(key)\n",
      "\u001b[0;31mKeyError\u001b[0m: 'type'"
     ]
    }
   ],
   "source": [
    "final_portugal_dates = final_portugal_dates['type'].str.capitalize()"
   ]
  },
  {
   "cell_type": "code",
   "execution_count": 125,
   "metadata": {},
   "outputs": [
    {
     "data": {
      "text/plain": [
       "0     Restaurant\n",
       "1     Restaurant\n",
       "8     Restaurant\n",
       "19    Restaurant\n",
       "23    Attraction\n",
       "Name: type, dtype: object"
      ]
     },
     "execution_count": 125,
     "metadata": {},
     "output_type": "execute_result"
    }
   ],
   "source": [
    "final_portugal_dates.head()"
   ]
  }
 ],
 "metadata": {
  "kernelspec": {
   "display_name": "Python 3.10.5 ('DataDrivenPortugal-hG9oGiaH')",
   "language": "python",
   "name": "python3"
  },
  "language_info": {
   "codemirror_mode": {
    "name": "ipython",
    "version": 3
   },
   "file_extension": ".py",
   "mimetype": "text/x-python",
   "name": "python",
   "nbconvert_exporter": "python",
   "pygments_lexer": "ipython3",
   "version": "3.10.5"
  },
  "orig_nbformat": 4,
  "vscode": {
   "interpreter": {
    "hash": "50522ffbb101ecb36edb174e077728349e18077e523d6062a4cbbe63ccfb74c6"
   }
  }
 },
 "nbformat": 4,
 "nbformat_minor": 2
}
